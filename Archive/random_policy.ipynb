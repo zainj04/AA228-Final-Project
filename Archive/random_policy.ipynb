{
 "cells": [
  {
   "cell_type": "code",
   "execution_count": 1,
   "id": "c5e3fb55",
   "metadata": {},
   "outputs": [],
   "source": [
    "import pandas as pd\n",
    "import numpy as np\n",
    "import matplotlib.pyplot as plt\n"
   ]
  },
  {
   "cell_type": "code",
   "execution_count": 2,
   "id": "784be78e",
   "metadata": {},
   "outputs": [
    {
     "name": "stdout",
     "output_type": "stream",
     "text": [
      "Week 1: Action: bet, Odds: 1600.0, Outcome: -1, Reward: -100\n",
      "Week 2: Action: no_bet, Odds: 290.0, Outcome: -1, Reward: 0\n",
      "Week 3: Action: no_bet, Odds: 1200.0, Outcome: -1, Reward: 0\n",
      "Week 4: Action: bet, Odds: 340.0, Outcome: 1, Reward: 340.0\n",
      "Week 5: Action: bet, Odds: 550.0, Outcome: -1, Reward: -100\n",
      "Week 6: Action: bet, Odds: 1300.0, Outcome: -1, Reward: -100\n",
      "Week 7: Action: bet, Odds: 400.0, Outcome: 1, Reward: 400.0\n",
      "Week 8: Action: bet, Odds: 850.0, Outcome: -1, Reward: -100\n",
      "Week 9: Action: bet, Odds: 210.0, Outcome: -1, Reward: -100\n",
      "Week 10: Action: no_bet, Odds: 1100.0, Outcome: -1, Reward: 0\n",
      "Total Reward: 240.0\n"
     ]
    }
   ],
   "source": [
    "# Load the data\n",
    "metrics_df = pd.read_csv('./Data/2023/stanford_2023_advancedmetrics_altered.csv')\n",
    "gamestats_df = pd.read_csv('./Data/2023/stanford_2023_gamestats_altered.csv')\n",
    "lines_df = pd.read_csv('./Data/2023/stanford_2023_lines_altered.csv')\n",
    "\n",
    "# Combine relevant data into a single DataFrame, aligned by week\n",
    "data_df = pd.concat([metrics_df, gamestats_df, lines_df], axis=1)\n",
    "\n",
    "# MDP parameters\n",
    "actions = ['bet', 'no_bet']\n",
    "bet_amount = 100  # Fixed amount to bet each week\n",
    "\n",
    "# Initialize variables\n",
    "total_reward = 0  # Track total profit or loss\n",
    "rewards = []      # Record reward outcomes for each week\n",
    "\n",
    "# Define the reward function based on the bet outcome and odds\n",
    "def reward(action, odds, outcome):\n",
    "    if action == 'bet':\n",
    "        if outcome > 0:  # Win scenario\n",
    "            if odds > 0:\n",
    "                return bet_amount * (odds / 100)  # Positive odds (e.g., +150)\n",
    "            else:\n",
    "                return bet_amount * (100 / abs(odds))  # Negative odds (e.g., -150)\n",
    "        else:\n",
    "            return -bet_amount  # Loss scenario, lose full $100\n",
    "    return 0  # No reward if no bet\n",
    "\n",
    "# Function to extract Stanford's moneyline odds and determine game outcome\n",
    "def get_stanford_moneyline_and_outcome(row):\n",
    "    if row['HomeTeam'] == 'Stanford':\n",
    "        odds = row['HomeMoneyline']\n",
    "        outcome = 1 if row['HomeScore'] > row['AwayScore'] else -1  # 1 if win, -1 if loss\n",
    "    elif row['AwayTeam'] == 'Stanford':\n",
    "        odds = row['AwayMoneyline']\n",
    "        outcome = 1 if row['AwayScore'] > row['HomeScore'] else -1  # 1 if win, -1 if loss\n",
    "    else:\n",
    "        odds, outcome = None, None  # This case shouldn't happen based on your dataset\n",
    "    return odds, outcome\n",
    "\n",
    "# Simulate sequential decision-making through the season\n",
    "for week in range(1, len(data_df)):\n",
    "    current_state = data_df.iloc[:week]  # Include data up to the current week\n",
    "    next_state = data_df.iloc[week]\n",
    "    \n",
    "    # Extract Stanford's moneyline odds and determine outcome for this week\n",
    "    odds, outcome = get_stanford_moneyline_and_outcome(next_state)\n",
    "    \n",
    "    if odds is None:\n",
    "        print(f\"Week {week}: Stanford did not play this game.\")\n",
    "        continue  # Skip to the next week if Stanford did not play\n",
    "    \n",
    "    # For now, just choose randomly (replace with policy later)\n",
    "    action = np.random.choice(actions)\n",
    "    \n",
    "    # Calculate the reward for this week's action\n",
    "    week_reward = reward(action, odds, outcome)\n",
    "    total_reward += week_reward\n",
    "    rewards.append(total_reward)\n",
    "    \n",
    "    # Log action and reward for analysis\n",
    "    print(f\"Week {week}: Action: {action}, Odds: {odds}, Outcome: {outcome}, Reward: {week_reward}\")\n",
    "\n",
    "print(\"Total Reward:\", total_reward)"
   ]
  },
  {
   "cell_type": "code",
   "execution_count": 3,
   "id": "02826b89",
   "metadata": {},
   "outputs": [
    {
     "data": {
      "image/png": "[encoded data removed]",
      "text/plain": [
       "<Figure size 720x360 with 1 Axes>"
      ]
     },
     "metadata": {
      "needs_background": "light"
     },
     "output_type": "display_data"
    }
   ],
   "source": [
    "# Plotting cumulative reward over weeks\n",
    "weeks = list(range(1, len(rewards) + 1))\n",
    "plt.figure(figsize=(10, 5))\n",
    "plt.plot(weeks, rewards, marker='o', linestyle='-', color='g')\n",
    "plt.title(\"Cumulative Reward over Season for a Random Policy\")\n",
    "plt.xlabel(\"Week\")\n",
    "plt.ylabel(\"Cumulative Reward ($)\")\n",
    "plt.grid(True)\n",
    "plt.show()"
   ]
  },
  {
   "cell_type": "code",
   "execution_count": null,
   "id": "70090a4c",
   "metadata": {},
   "outputs": [],
   "source": []
  }
 ],
 "metadata": {
  "kernelspec": {
   "display_name": "Python 3 (ipykernel)",
   "language": "python",
   "name": "python3"
  },
  "language_info": {
   "codemirror_mode": {
    "name": "ipython",
    "version": 3
   },
   "file_extension": ".py",
   "mimetype": "text/x-python",
   "name": "python",
   "nbconvert_exporter": "python",
   "pygments_lexer": "ipython3",
   "version": "3.9.7"
  }
 },
 "nbformat": 4,
 "nbformat_minor": 5
}
